{
 "cells": [
  {
   "cell_type": "code",
   "execution_count": 20,
   "metadata": {},
   "outputs": [],
   "source": [
    "import xarray as xr\n",
    "path = r'..\\\\data\\\\netcdf_databases\\\\reference_dataset_Zefyros_windeurope'\n",
    "df = xr.open_dataset('{}.nc'.format(path))"
   ]
  },
  {
   "cell_type": "code",
   "execution_count": 21,
   "metadata": {},
   "outputs": [],
   "source": [
    "import matplotlib.pyplot as plt\n",
    "import numpy as np\n",
    "for i in range(1,7):\n",
    "    try:\n",
    "        for axis in ['x', 'y', 'z']:\n",
    "            value = 'NeurNode{}AL{}t_psd'.format(i, axis)\n",
    "            # values_min[np.where(values_min[:,1]<0), 1]\n",
    "            for j in range(len(df[value].values)):\n",
    "                if min(df[value].values[j])<0:\n",
    "                    df[value].values[j][np.where(df[value].values[j][:]<0)] = np.repeat(0, len(df[value].values[j][np.where(df[value].values[j][:]<0)]))\n",
    "    except:\n",
    "        pass\n"
   ]
  },
  {
   "cell_type": "code",
   "execution_count": 22,
   "metadata": {},
   "outputs": [],
   "source": [
    "for i in range(1,7):\n",
    "    try:\n",
    "        for axis in ['x', 'y', 'z']:\n",
    "            value = 'NeurNode{}AL{}t_psd'.format(i, axis)\n",
    "            # values_min[np.where(values_min[:,1]<0), 1]\n",
    "            for j in range(len(df[value].values)):\n",
    "                if min(df[value].values[j])<0:\n",
    "                    print(min(df[value].values[j]))\n",
    "    except:\n",
    "        pass"
   ]
  },
  {
   "cell_type": "code",
   "execution_count": 23,
   "metadata": {},
   "outputs": [],
   "source": [
    "df.to_netcdf(path='{}_AHIR.nc'.format(path))"
   ]
  }
 ],
 "metadata": {
  "kernelspec": {
   "display_name": "subsee4d_preprod",
   "language": "python",
   "name": "python3"
  },
  "language_info": {
   "codemirror_mode": {
    "name": "ipython",
    "version": 3
   },
   "file_extension": ".py",
   "mimetype": "text/x-python",
   "name": "python",
   "nbconvert_exporter": "python",
   "pygments_lexer": "ipython3",
   "version": "3.7.16"
  },
  "orig_nbformat": 4
 },
 "nbformat": 4,
 "nbformat_minor": 2
}
